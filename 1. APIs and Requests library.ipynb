{
 "cells": [
  {
   "cell_type": "markdown",
   "metadata": {},
   "source": [
    "<h1> API và quét trang web"
   ]
  },
  {
   "cell_type": "markdown",
   "metadata": {},
   "source": [
    "<h2> API và quét web bằng ngôn ngữ Python"
   ]
  },
  {
   "cell_type": "markdown",
   "metadata": {},
   "source": [
    "<h3> API và thư viện Requests"
   ]
  },
  {
   "cell_type": "markdown",
   "metadata": {},
   "source": [
    "<h4> Giới thiệu về APIs"
   ]
  },
  {
   "cell_type": "markdown",
   "metadata": {},
   "source": [
    "![title](https://s3.amazonaws.com/dq-content/720/1.1-m720.svg)"
   ]
  },
  {
   "cell_type": "markdown",
   "metadata": {},
   "source": [
    "<h4> Thư viện Requests"
   ]
  },
  {
   "cell_type": "code",
   "execution_count": 1,
   "metadata": {},
   "outputs": [
    {
     "name": "stdout",
     "output_type": "stream",
     "text": [
      "<class 'requests.models.Response'>\n",
      "<Response [200]>\n"
     ]
    }
   ],
   "source": [
    "import requests\n",
    "\n",
    "endpoint = 'https://api.exchangerate-api.com/v4/latest/usd'\n",
    "\n",
    "# Make a GET request to the API endpoint\n",
    "response = requests.get(endpoint)\n",
    "print(type(response))\n",
    "print(response)"
   ]
  },
  {
   "cell_type": "code",
   "execution_count": 2,
   "metadata": {},
   "outputs": [
    {
     "name": "stdout",
     "output_type": "stream",
     "text": [
      "<class 'requests.models.Response'>\n",
      "<Response [200]>\n"
     ]
    }
   ],
   "source": [
    "endpoint_url = \"https://api.exchangerate-api.com/v4/latest/cad\"\n",
    "\n",
    "# Make a GET request to the API endpoint\n",
    "response = requests.get(endpoint_url)\n",
    "print(type(response))\n",
    "print(response)"
   ]
  },
  {
   "cell_type": "markdown",
   "metadata": {},
   "source": [
    "<h4> Converting the HTTP Response to JSON"
   ]
  },
  {
   "cell_type": "code",
   "execution_count": 3,
   "metadata": {},
   "outputs": [
    {
     "name": "stdout",
     "output_type": "stream",
     "text": [
      "<class 'str'>\n",
      "{'provider': 'https://www.exchangerate-api.com', 'WARNING_UPGRADE_TO_V6': 'https://www.exchangerate-api.com/docs/free', 'terms': 'https://www.exchangerate-api.com/terms', 'base': 'CAD', 'date': '2024-04-20', 'time_last_updated': 1713571201, 'rates': {'CAD': 1, 'AED': 2.67, 'AFN': 52.18, 'ALL': 69.12, 'AMD': 285.59, 'ANG': 1.3, 'AOA': 616.68, 'ARS': 629.37, 'AUD': 1.13, 'AWG': 1.3, 'AZN': 1.24, 'BAM': 1.33, 'BBD': 1.46, 'BDT': 79.81, 'BGN': 1.33, 'BHD': 0.274, 'BIF': 2073.25, 'BMD': 0.728, 'BND': 0.99, 'BOB': 5.03, 'BRL': 3.8, 'BSD': 0.728, 'BTN': 60.68, 'BWP': 10.08, 'BYN': 2.38, 'BZD': 1.46, 'CDF': 2017.22, 'CHF': 0.662, 'CLP': 618.94, 'CNY': 5.27, 'COP': 2832.31, 'CRC': 364.04, 'CUP': 17.47, 'CVE': 75.26, 'CZK': 17.24, 'DJF': 129.35, 'DKK': 5.09, 'DOP': 42.89, 'DZD': 97.89, 'EGP': 35.14, 'ERN': 10.92, 'ETB': 41.38, 'EUR': 0.683, 'FJD': 1.65, 'FKP': 0.587, 'FOK': 5.09, 'GBP': 0.586, 'GEL': 1.94, 'GGP': 0.587, 'GHS': 9.9, 'GIP': 0.587, 'GMD': 47.82, 'GNF': 6246.26, 'GTQ': 5.65, 'GYD': 152.22, 'HKD': 5.7, 'HNL': 17.97, 'HRK': 5.14, 'HTG': 96.35, 'HUF': 269.27, 'IDR': 11796.91, 'ILS': 2.74, 'IMP': 0.587, 'INR': 60.68, 'IQD': 952.81, 'IRR': 30770.03, 'ISK': 102.47, 'JEP': 0.587, 'JMD': 111.85, 'JOD': 0.516, 'JPY': 112.39, 'KES': 96.68, 'KGS': 64.8, 'KHR': 2946.2, 'KID': 1.13, 'KMF': 335.78, 'KRW': 1002.46, 'KWD': 0.224, 'KYD': 0.607, 'KZT': 324.58, 'LAK': 15075.29, 'LBP': 65138.62, 'LKR': 218.71, 'LRD': 141.36, 'LSL': 13.91, 'LYD': 3.55, 'MAD': 7.38, 'MDL': 13.02, 'MGA': 3195.9, 'MKD': 41.87, 'MMK': 2107.72, 'MNT': 2442.72, 'MOP': 5.87, 'MRU': 28.79, 'MUR': 33.83, 'MVR': 11.23, 'MWK': 1269.82, 'MXN': 12.46, 'MYR': 3.48, 'MZN': 46.5, 'NAD': 13.91, 'NGN': 833.79, 'NIO': 26.78, 'NOK': 8.01, 'NPR': 97.1, 'NZD': 1.23, 'OMR': 0.28, 'PAB': 0.728, 'PEN': 2.7, 'PGK': 2.76, 'PHP': 41.69, 'PKR': 202.57, 'PLN': 2.95, 'PYG': 5344.03, 'QAR': 2.65, 'RON': 3.39, 'RSD': 79.84, 'RUB': 67.95, 'RWF': 962.14, 'SAR': 2.73, 'SBD': 6.16, 'SCR': 9.97, 'SDG': 324.98, 'SEK': 7.89, 'SGD': 0.99, 'SHP': 0.587, 'SLE': 16.48, 'SLL': 16477.08, 'SOS': 415.42, 'SRD': 25.33, 'SSP': 1134.97, 'STN': 16.72, 'SYP': 9361.34, 'SZL': 13.91, 'THB': 26.8, 'TJS': 7.96, 'TMT': 2.54, 'TND': 2.3, 'TOP': 1.7, 'TRY': 23.68, 'TTD': 5.02, 'TVD': 1.13, 'TWD': 23.62, 'TZS': 1876.75, 'UAH': 28.89, 'UGX': 2764, 'USD': 0.728, 'UYU': 28.26, 'UZS': 9220.78, 'VES': 26.45, 'VND': 18508.13, 'VUV': 88.39, 'WST': 2, 'XAF': 447.7, 'XCD': 1.97, 'XDR': 0.568, 'XOF': 447.7, 'XPF': 81.45, 'YER': 181.99, 'ZAR': 13.91, 'ZMW': 18.61, 'ZWL': 9.69}}\n",
      "<class 'dict'>\n"
     ]
    }
   ],
   "source": [
    "endpoint = \"https://api.exchangerate-api.com/v4/latest/cad\"\n",
    "\n",
    "# Make a Get request to the API endpoint\n",
    "response = requests.get(endpoint)\n",
    "print(type(endpoint))\n",
    "response_json = response.json()\n",
    "print(response_json)\n",
    "print(type(response_json))"
   ]
  },
  {
   "cell_type": "code",
   "execution_count": 5,
   "metadata": {},
   "outputs": [
    {
     "name": "stdout",
     "output_type": "stream",
     "text": [
      "<class 'requests.models.Response'>\n",
      "{'provider': 'https://www.exchangerate-api.com', 'WARNING_UPGRADE_TO_V6': 'https://www.exchangerate-api.com/docs/free', 'terms': 'https://www.exchangerate-api.com/terms', 'base': 'GBP', 'date': '2024-04-20', 'time_last_updated': 1713571201, 'rates': {'GBP': 1, 'AED': 4.56, 'AFN': 89.49, 'ALL': 118.55, 'AMD': 489.17, 'ANG': 2.22, 'AOA': 1055.17, 'ARS': 1072.57, 'AUD': 1.93, 'AWG': 2.22, 'AZN': 2.12, 'BAM': 2.28, 'BBD': 2.48, 'BDT': 136.07, 'BGN': 2.28, 'BHD': 0.466, 'BIF': 3555.54, 'BMD': 1.24, 'BND': 1.69, 'BOB': 8.63, 'BRL': 6.52, 'BSD': 1.24, 'BTN': 103.8, 'BWP': 17.33, 'BYN': 4.07, 'BZD': 2.48, 'CAD': 1.7, 'CDF': 3459.44, 'CHF': 1.13, 'CLP': 1040.66, 'CNY': 8.99, 'COP': 4857.45, 'CRC': 624.33, 'CUP': 29.77, 'CVE': 128.38, 'CZK': 29.41, 'DJF': 220.43, 'DKK': 8.67, 'DOP': 73.55, 'DZD': 167.88, 'EGP': 59.96, 'ERN': 18.6, 'ETB': 69.36, 'EUR': 1.16, 'FJD': 2.84, 'FKP': 1, 'FOK': 8.67, 'GEL': 3.32, 'GGP': 1, 'GHS': 16.95, 'GIP': 1, 'GMD': 81.94, 'GNF': 10702.21, 'GTQ': 9.7, 'GYD': 261.05, 'HKD': 9.73, 'HNL': 30.81, 'HRK': 8.77, 'HTG': 165.23, 'HUF': 458.23, 'IDR': 20128.83, 'ILS': 4.68, 'IMP': 1, 'INR': 103.8, 'IQD': 1634.03, 'IRR': 52703.88, 'ISK': 175.53, 'JEP': 1, 'JMD': 192.26, 'JOD': 0.879, 'JPY': 191.58, 'KES': 165.59, 'KGS': 110.99, 'KHR': 5052.61, 'KID': 1.93, 'KMF': 572.78, 'KRW': 1712.63, 'KWD': 0.382, 'KYD': 1.03, 'KZT': 553.62, 'LAK': 25854.39, 'LBP': 111009.44, 'LKR': 374.31, 'LRD': 242.44, 'LSL': 23.7, 'LYD': 6.09, 'MAD': 12.58, 'MDL': 22.31, 'MGA': 5472.86, 'MKD': 71.82, 'MMK': 3595.48, 'MNT': 4158.38, 'MOP': 10.02, 'MRU': 49.38, 'MUR': 57.84, 'MVR': 19.26, 'MWK': 2175.68, 'MXN': 21.22, 'MYR': 5.95, 'MZN': 79.68, 'NAD': 23.7, 'NGN': 1424.49, 'NIO': 45.92, 'NOK': 13.67, 'NPR': 166.08, 'NZD': 2.1, 'OMR': 0.477, 'PAB': 1.24, 'PEN': 4.6, 'PGK': 4.73, 'PHP': 71.04, 'PKR': 344.93, 'PLN': 5.04, 'PYG': 9165.1, 'QAR': 4.51, 'RON': 5.81, 'RSD': 136.81, 'RUB': 115.98, 'RWF': 1644.78, 'SAR': 4.65, 'SBD': 10.55, 'SCR': 17.08, 'SDG': 557.33, 'SEK': 13.45, 'SGD': 1.69, 'SHP': 1, 'SLE': 28.08, 'SLL': 28080.29, 'SOS': 712.43, 'SRD': 43.44, 'SSP': 1944.06, 'STN': 28.52, 'SYP': 16054.85, 'SZL': 23.7, 'THB': 45.66, 'TJS': 13.63, 'TMT': 4.35, 'TND': 3.93, 'TOP': 2.92, 'TRY': 40.35, 'TTD': 8.7, 'TVD': 1.93, 'TWD': 40.31, 'TZS': 3208.32, 'UAH': 49.49, 'UGX': 4725.06, 'USD': 1.24, 'UYU': 48.47, 'UZS': 15793.57, 'VES': 45.08, 'VND': 31484.7, 'VUV': 151.5, 'WST': 3.43, 'XAF': 763.7, 'XCD': 3.35, 'XDR': 0.956, 'XOF': 763.7, 'XPF': 138.93, 'YER': 312.12, 'ZAR': 23.7, 'ZMW': 31.88, 'ZWL': 16.53}}\n",
      "provider : https://www.exchangerate-api.com\n",
      "WARNING_UPGRADE_TO_V6 : https://www.exchangerate-api.com/docs/free\n",
      "terms : https://www.exchangerate-api.com/terms\n",
      "base : GBP\n",
      "date : 2024-04-20\n",
      "time_last_updated : 1713571201\n",
      "rates : {'GBP': 1, 'AED': 4.56, 'AFN': 89.49, 'ALL': 118.55, 'AMD': 489.17, 'ANG': 2.22, 'AOA': 1055.17, 'ARS': 1072.57, 'AUD': 1.93, 'AWG': 2.22, 'AZN': 2.12, 'BAM': 2.28, 'BBD': 2.48, 'BDT': 136.07, 'BGN': 2.28, 'BHD': 0.466, 'BIF': 3555.54, 'BMD': 1.24, 'BND': 1.69, 'BOB': 8.63, 'BRL': 6.52, 'BSD': 1.24, 'BTN': 103.8, 'BWP': 17.33, 'BYN': 4.07, 'BZD': 2.48, 'CAD': 1.7, 'CDF': 3459.44, 'CHF': 1.13, 'CLP': 1040.66, 'CNY': 8.99, 'COP': 4857.45, 'CRC': 624.33, 'CUP': 29.77, 'CVE': 128.38, 'CZK': 29.41, 'DJF': 220.43, 'DKK': 8.67, 'DOP': 73.55, 'DZD': 167.88, 'EGP': 59.96, 'ERN': 18.6, 'ETB': 69.36, 'EUR': 1.16, 'FJD': 2.84, 'FKP': 1, 'FOK': 8.67, 'GEL': 3.32, 'GGP': 1, 'GHS': 16.95, 'GIP': 1, 'GMD': 81.94, 'GNF': 10702.21, 'GTQ': 9.7, 'GYD': 261.05, 'HKD': 9.73, 'HNL': 30.81, 'HRK': 8.77, 'HTG': 165.23, 'HUF': 458.23, 'IDR': 20128.83, 'ILS': 4.68, 'IMP': 1, 'INR': 103.8, 'IQD': 1634.03, 'IRR': 52703.88, 'ISK': 175.53, 'JEP': 1, 'JMD': 192.26, 'JOD': 0.879, 'JPY': 191.58, 'KES': 165.59, 'KGS': 110.99, 'KHR': 5052.61, 'KID': 1.93, 'KMF': 572.78, 'KRW': 1712.63, 'KWD': 0.382, 'KYD': 1.03, 'KZT': 553.62, 'LAK': 25854.39, 'LBP': 111009.44, 'LKR': 374.31, 'LRD': 242.44, 'LSL': 23.7, 'LYD': 6.09, 'MAD': 12.58, 'MDL': 22.31, 'MGA': 5472.86, 'MKD': 71.82, 'MMK': 3595.48, 'MNT': 4158.38, 'MOP': 10.02, 'MRU': 49.38, 'MUR': 57.84, 'MVR': 19.26, 'MWK': 2175.68, 'MXN': 21.22, 'MYR': 5.95, 'MZN': 79.68, 'NAD': 23.7, 'NGN': 1424.49, 'NIO': 45.92, 'NOK': 13.67, 'NPR': 166.08, 'NZD': 2.1, 'OMR': 0.477, 'PAB': 1.24, 'PEN': 4.6, 'PGK': 4.73, 'PHP': 71.04, 'PKR': 344.93, 'PLN': 5.04, 'PYG': 9165.1, 'QAR': 4.51, 'RON': 5.81, 'RSD': 136.81, 'RUB': 115.98, 'RWF': 1644.78, 'SAR': 4.65, 'SBD': 10.55, 'SCR': 17.08, 'SDG': 557.33, 'SEK': 13.45, 'SGD': 1.69, 'SHP': 1, 'SLE': 28.08, 'SLL': 28080.29, 'SOS': 712.43, 'SRD': 43.44, 'SSP': 1944.06, 'STN': 28.52, 'SYP': 16054.85, 'SZL': 23.7, 'THB': 45.66, 'TJS': 13.63, 'TMT': 4.35, 'TND': 3.93, 'TOP': 2.92, 'TRY': 40.35, 'TTD': 8.7, 'TVD': 1.93, 'TWD': 40.31, 'TZS': 3208.32, 'UAH': 49.49, 'UGX': 4725.06, 'USD': 1.24, 'UYU': 48.47, 'UZS': 15793.57, 'VES': 45.08, 'VND': 31484.7, 'VUV': 151.5, 'WST': 3.43, 'XAF': 763.7, 'XCD': 3.35, 'XDR': 0.956, 'XOF': 763.7, 'XPF': 138.93, 'YER': 312.12, 'ZAR': 23.7, 'ZMW': 31.88, 'ZWL': 16.53}\n"
     ]
    }
   ],
   "source": [
    "import requests\n",
    "\n",
    "endpoint_url = 'https://api.exchangerate-api.com/v4/latest/gbp'\n",
    "response = requests.get(endpoint_url)\n",
    "response_dict = response.json()\n",
    "\n",
    "print(type(response))\n",
    "print(type(response_dict))\n",
    "\n",
    "for key in response_dict:\n",
    "    print(key, \":\", response_dict[key])"
   ]
  },
  {
   "cell_type": "markdown",
   "metadata": {},
   "source": [
    "<h4> GET method"
   ]
  },
  {
   "cell_type": "code",
   "execution_count": 15,
   "metadata": {},
   "outputs": [
    {
     "name": "stdout",
     "output_type": "stream",
     "text": [
      "https://api.exchangerate-api.com/v4?param1=usd&param2=cad\n",
      "<Response [404]>\n"
     ]
    }
   ],
   "source": [
    "url = 'https://api.exchangerate-api.com/v4'\n",
    "\n",
    "# Specify the parameters for the GET request\n",
    "param1 = 'usd'\n",
    "param2 = 'cad'\n",
    "\n",
    "# Construct the URL with parameters\n",
    "full_url = url + '?param1=' + param1 + '&param2=' + param2\n",
    "\n",
    "response = requests.get(full_url)\n",
    "print(full_url)\n",
    "print(response)"
   ]
  },
  {
   "cell_type": "code",
   "execution_count": 59,
   "metadata": {},
   "outputs": [
    {
     "name": "stdout",
     "output_type": "stream",
     "text": [
      "25388.14\n",
      "27099.23\n",
      "690.64\n"
     ]
    }
   ],
   "source": [
    "currencies = ['USD', 'EUR', 'THB']\n",
    "base_url = \"https://api.exchangerate-api.com/v4/latest/\"\n",
    "\n",
    "for currency_code in currencies:\n",
    "    url = base_url + currency_code\n",
    "    response = requests.get(url)\n",
    "    response = response.json()\n",
    "    print(response[\"rates\"][\"VND\"])\n"
   ]
  },
  {
   "cell_type": "markdown",
   "metadata": {},
   "source": [
    "<h4> POST method"
   ]
  },
  {
   "cell_type": "code",
   "execution_count": 19,
   "metadata": {},
   "outputs": [],
   "source": [
    "# Define the API endpoint URL where the account creation information will be submitted\n",
    "endpoint = \"https://example.com/api/create-account\"\n",
    "\n",
    "# Prepare the account creation data as a dictionary\n",
    "account_data = {\n",
    "    \"username\": \"example_user\",\n",
    "    \"email\": \"example@example.com\",\n",
    "    \"password\": \"example_password\"\n",
    "}\n",
    "\n",
    "# Make the POST request to submit the account creation data\n",
    "response = requests.post(endpoint, json=account_data)"
   ]
  },
  {
   "cell_type": "code",
   "execution_count": 23,
   "metadata": {},
   "outputs": [
    {
     "data": {
      "text/plain": [
       "{'result': 'error',\n",
       " 'error-type': 'wrong-http-method',\n",
       " 'extra-info': 'Only GET requests are supported.'}"
      ]
     },
     "execution_count": 23,
     "metadata": {},
     "output_type": "execute_result"
    }
   ],
   "source": [
    "url = 'https://api.exchangerate-api.com/v4/latest/usd'\n",
    "\n",
    "# Specify the parameters for the POST request\n",
    "payload = {\n",
    "    'from': 'USD',         # Convert from USD\n",
    "    'to': 'EUR',           # Convert to EUR\n",
    "    'amount': 100          # Specify the amount to convert\n",
    "}\n",
    "\n",
    "response = requests.post(url, json=payload)\n",
    "\n",
    "data = response.json()\n",
    "data"
   ]
  },
  {
   "cell_type": "code",
   "execution_count": 24,
   "metadata": {},
   "outputs": [
    {
     "name": "stdout",
     "output_type": "stream",
     "text": [
      "error\n"
     ]
    }
   ],
   "source": [
    "response = requests.post(url, json=payload)\n",
    "\n",
    "data = response.json()\n",
    "converted_amount = data['result']\n",
    "print(converted_amount)"
   ]
  },
  {
   "cell_type": "code",
   "execution_count": 34,
   "metadata": {},
   "outputs": [
    {
     "name": "stdout",
     "output_type": "stream",
     "text": [
      "<Response [405]>\n"
     ]
    }
   ],
   "source": [
    "endpoint = \"https://api.exchangerate-api.com/v4/latest/usd\"\n",
    "payload = {\"original_currency\": \"USD\", \"target_currency\": \"CAD\", \"amount\": 100}\n",
    "response = requests.post(endpoint, json=payload)\n",
    "print(response)"
   ]
  },
  {
   "cell_type": "code",
   "execution_count": 61,
   "metadata": {},
   "outputs": [
    {
     "name": "stdout",
     "output_type": "stream",
     "text": [
      "{'result': 'error', 'error-type': 'wrong-http-method', 'extra-info': 'Only GET requests are supported.'}\n"
     ]
    }
   ],
   "source": [
    "import requests\n",
    "\n",
    "url = 'https://api.exchangerate-api.com/v4/latest/USD'\n",
    "\n",
    "payload = {\n",
    "    'date': '2024-04-17'\n",
    "}\n",
    "response = requests.post(url, json=payload)\n",
    "response_dict = response.json()\n",
    "print(response_dict)"
   ]
  },
  {
   "cell_type": "markdown",
   "metadata": {},
   "source": [
    "<h4> Converting JSON Data to Strings"
   ]
  },
  {
   "cell_type": "code",
   "execution_count": 36,
   "metadata": {},
   "outputs": [
    {
     "name": "stdout",
     "output_type": "stream",
     "text": [
      "{\"from\": \"USD\", \"to\": \"EUR\", \"amount\": 100}\n",
      "<class 'str'>\n"
     ]
    }
   ],
   "source": [
    "import json\n",
    "import requests\n",
    "\n",
    "url = 'https://api.exchangerate-api.com/v4/convert'\n",
    "\n",
    "# Specify the parameters for the POST request\n",
    "payload = {\n",
    "    'from': 'USD',         # Convert from USD\n",
    "    'to': 'EUR',           # Convert to EUR\n",
    "    'amount': 100          # Specify the amount to convert\n",
    "}\n",
    "\n",
    "payload_str = json.dumps(payload)\n",
    "print(payload_str)\n",
    "print(type(payload_str))\n",
    "response = requests.post(url, data=payload_str)"
   ]
  },
  {
   "cell_type": "code",
   "execution_count": 39,
   "metadata": {},
   "outputs": [
    {
     "name": "stdout",
     "output_type": "stream",
     "text": [
      "{\"EUR\": 0.927, \"USD\": 1, \"CAD\": 1.33, \"JPY\": 139.9, \"GBP\": 0.794}\n",
      "<class 'str'>\n"
     ]
    }
   ],
   "source": [
    "import json\n",
    "exchange_rate_map = {\n",
    "    'EUR': 0.927,\n",
    "    'USD': 1,\n",
    "    'CAD': 1.33,\n",
    "    'JPY': 139.9,\n",
    "    'GBP': 0.794\n",
    "}\n",
    "\n",
    "exchange_rate_map = json.dumps(exchange_rate_map)\n",
    "print(exchange_rate_map)\n",
    "print(type(exchange_rate_map))"
   ]
  },
  {
   "cell_type": "markdown",
   "metadata": {},
   "source": [
    "<h4> Formatting Strings"
   ]
  },
  {
   "cell_type": "code",
   "execution_count": 40,
   "metadata": {},
   "outputs": [
    {
     "name": "stdout",
     "output_type": "stream",
     "text": [
      "https://api.exchangerate-api.com/v4/latest/USD\n"
     ]
    }
   ],
   "source": [
    "base_currency = 'USD'\n",
    "\n",
    "url = f'https://api.exchangerate-api.com/v4/latest/{base_currency}'\n",
    "print(url)"
   ]
  },
  {
   "cell_type": "code",
   "execution_count": 46,
   "metadata": {},
   "outputs": [
    {
     "name": "stdout",
     "output_type": "stream",
     "text": [
      "{\"from\": \"USD\", \"to\": \"EUR\", \"amount\": 100}\n"
     ]
    }
   ],
   "source": [
    "base_currency = 'USD'\n",
    "target_currency = 'EUR'\n",
    "amount_to_convert = 100\n",
    "\n",
    "payload = f'{{\"from\": \"{base_currency}\", \"to\": \"{target_currency}\", \"amount\": {amount_to_convert}}}'\n",
    "print(payload)"
   ]
  },
  {
   "cell_type": "code",
   "execution_count": 62,
   "metadata": {},
   "outputs": [
    {
     "name": "stdout",
     "output_type": "stream",
     "text": [
      "The exchange rate from VND to USD is 3.9e-05.\n",
      "The exchange rate from EUR to USD is 1.07.\n",
      "The exchange rate from THB to USD is 0.0272.\n"
     ]
    }
   ],
   "source": [
    "base_url = \"https://api.exchangerate-api.com/v4/latest/\"\n",
    "currencies = ['VND', 'EUR', 'THB']\n",
    "\n",
    "for currency_code in currencies:\n",
    "    url = f'{base_url}{currency_code}'\n",
    "    response = requests.get(url)\n",
    "    response = response.json()\n",
    "    print(f'The exchange rate from {currency_code} to USD is {response[\"rates\"][\"USD\"]}.')"
   ]
  },
  {
   "cell_type": "markdown",
   "metadata": {},
   "source": [
    "<h4> HTTP Request Error Handling"
   ]
  },
  {
   "cell_type": "code",
   "execution_count": 51,
   "metadata": {},
   "outputs": [
    {
     "name": "stdout",
     "output_type": "stream",
     "text": [
      "200\n"
     ]
    }
   ],
   "source": [
    "import requests\n",
    "\n",
    "endpoint = 'https://api.exchangerate-api.com/v4/latest/usd'\n",
    "\n",
    "# Make a GET request to the API endpoint\n",
    "response = requests.get(endpoint)\n",
    "print(response.status_code)"
   ]
  },
  {
   "cell_type": "code",
   "execution_count": 53,
   "metadata": {},
   "outputs": [
    {
     "name": "stdout",
     "output_type": "stream",
     "text": [
      "Request was successful!\n"
     ]
    }
   ],
   "source": [
    "import requests\n",
    "\n",
    "endpoint = 'https://api.exchangerate-api.com/v4/latest/usd'\n",
    "\n",
    "# Make a GET request to the API endpoint\n",
    "response = requests.get(endpoint)\n",
    "if response.status_code == 200:\n",
    "    print(\"Request was successful!\")\n",
    "elif response.status_code == 404:\n",
    "    print(\"Endpoint not found. Please check the currency code provided in the endpoint.\")\n",
    "else:\n",
    "    print(\"Something went wrong.\")"
   ]
  },
  {
   "cell_type": "code",
   "execution_count": 64,
   "metadata": {},
   "outputs": [
    {
     "name": "stdout",
     "output_type": "stream",
     "text": [
      "https://api.exchangerate-api.com/v4/latest/vnd\n",
      "200\n",
      "Request was successful!\n",
      "https://api.exchangerate-api.com/v4/latest/abc\n",
      "404\n",
      "Endpoint not found!\n"
     ]
    }
   ],
   "source": [
    "currency_codes = ['vnd', 'abc']\n",
    "base_url = \"https://api.exchangerate-api.com/v4/latest/\"\n",
    "\n",
    "for currency_code in currency_codes:\n",
    "    url = f'{base_url}{currency_code}'\n",
    "    print(url)\n",
    "    response = requests.get(url)\n",
    "    if response.status_code == 200:\n",
    "        print(response.status_code)\n",
    "        print(\"Request was successful!\")    \n",
    "    elif response.status_code == 404:\n",
    "        print(response.status_code)\n",
    "        print(f\"Endpoint not found!\")"
   ]
  }
 ],
 "metadata": {
  "kernelspec": {
   "display_name": "Python 3",
   "language": "python",
   "name": "python3"
  },
  "language_info": {
   "codemirror_mode": {
    "name": "ipython",
    "version": 3
   },
   "file_extension": ".py",
   "mimetype": "text/x-python",
   "name": "python",
   "nbconvert_exporter": "python",
   "pygments_lexer": "ipython3",
   "version": "3.10.6"
  }
 },
 "nbformat": 4,
 "nbformat_minor": 2
}
